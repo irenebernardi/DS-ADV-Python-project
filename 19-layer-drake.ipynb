{
 "cells": [
  {
   "cell_type": "code",
   "execution_count": 1,
   "id": "4833f6d2",
   "metadata": {
    "execution": {
     "iopub.execute_input": "2023-12-16T14:54:08.343549Z",
     "iopub.status.busy": "2023-12-16T14:54:08.342936Z",
     "iopub.status.idle": "2023-12-16T14:54:21.112470Z",
     "shell.execute_reply": "2023-12-16T14:54:21.111287Z"
    },
    "papermill": {
     "duration": 12.779394,
     "end_time": "2023-12-16T14:54:21.115259",
     "exception": false,
     "start_time": "2023-12-16T14:54:08.335865",
     "status": "completed"
    },
    "tags": []
   },
   "outputs": [],
   "source": [
    "import numpy as np\n",
    "import pandas as pd\n",
    "import tensorflow as tf\n",
    "import os\n",
    "import shutil\n",
    "import tensorflow \n",
    "from tensorflow.keras import layers\n",
    "import matplotlib.pyplot as plt\n",
    "from matplotlib import image"
   ]
  },
  {
   "cell_type": "code",
   "execution_count": 2,
   "id": "788a3565",
   "metadata": {
    "execution": {
     "iopub.execute_input": "2023-12-16T14:54:21.127520Z",
     "iopub.status.busy": "2023-12-16T14:54:21.126486Z",
     "iopub.status.idle": "2023-12-16T14:54:21.131821Z",
     "shell.execute_reply": "2023-12-16T14:54:21.130670Z"
    },
    "papermill": {
     "duration": 0.013532,
     "end_time": "2023-12-16T14:54:21.133950",
     "exception": false,
     "start_time": "2023-12-16T14:54:21.120418",
     "status": "completed"
    },
    "tags": []
   },
   "outputs": [],
   "source": [
    "# Define constants\n",
    "\n",
    "# Define number of classes to use (this is a way to subset the data)\n",
    "CLASS_NUM = 3\n",
    "\n",
    "BATCH_SIZE = 32"
   ]
  },
  {
   "cell_type": "code",
   "execution_count": 3,
   "id": "a74e923e",
   "metadata": {
    "execution": {
     "iopub.execute_input": "2023-12-16T14:54:21.145545Z",
     "iopub.status.busy": "2023-12-16T14:54:21.144433Z",
     "iopub.status.idle": "2023-12-16T14:54:45.015086Z",
     "shell.execute_reply": "2023-12-16T14:54:45.013905Z"
    },
    "papermill": {
     "duration": 23.878676,
     "end_time": "2023-12-16T14:54:45.017163",
     "exception": false,
     "start_time": "2023-12-16T14:54:21.138487",
     "status": "completed"
    },
    "tags": []
   },
   "outputs": [
    {
     "name": "stdout",
     "output_type": "stream",
     "text": [
      "/kaggle/working/data created!\n",
      "n01531178 succesfully copied!\n",
      "n02412080 succesfully copied!\n",
      "n02098413 succesfully copied!\n"
     ]
    }
   ],
   "source": [
    "#data preprocessing \n",
    "# Store paths to base, train set and subset dirs\n",
    "base_dir = \"/kaggle/input/imagenet-object-localization-challenge\"\n",
    "train_dir = base_dir + \"/ILSVRC/Data/CLS-LOC/train\"\n",
    "subset_dir = \"/kaggle/working/data\"\n",
    "\n",
    "if not os.path.exists(subset_dir):\n",
    "    os.mkdir(subset_dir)\n",
    "    print(subset_dir, \"created!\")\n",
    "else:\n",
    "    print(subset_dir, \"already exists!\")\n",
    "    \n",
    "# Select only first n class dirs\n",
    "class_dirs = os.listdir(train_dir)[:CLASS_NUM]\n",
    "\n",
    "# Copy class dir from train set to working dir\n",
    "for class_dir in class_dirs:\n",
    "    # Define current source and destination paths\n",
    "    source_dir = train_dir + \"/\" + class_dir\n",
    "    destination_dir = subset_dir + \"/\" + class_dir\n",
    "    \n",
    "    # If new class, copy to working dir\n",
    "    if not os.path.exists(destination_dir):\n",
    "        shutil.copytree(source_dir, destination_dir)\n",
    "        print(class_dir, \"succesfully copied!\")\n",
    "    # If it exists, don't copy again\n",
    "    else:\n",
    "        print(class_dir, \"doesn't need copying!\")"
   ]
  },
  {
   "cell_type": "code",
   "execution_count": 4,
   "id": "60c01f39",
   "metadata": {
    "execution": {
     "iopub.execute_input": "2023-12-16T14:54:45.028951Z",
     "iopub.status.busy": "2023-12-16T14:54:45.028543Z",
     "iopub.status.idle": "2023-12-16T14:54:45.361443Z",
     "shell.execute_reply": "2023-12-16T14:54:45.360380Z"
    },
    "papermill": {
     "duration": 0.341994,
     "end_time": "2023-12-16T14:54:45.364287",
     "exception": false,
     "start_time": "2023-12-16T14:54:45.022293",
     "status": "completed"
    },
    "tags": []
   },
   "outputs": [
    {
     "name": "stdout",
     "output_type": "stream",
     "text": [
      "Found 3900 files belonging to 3 classes.\n"
     ]
    }
   ],
   "source": [
    "# Import train set as a Dataset object\n",
    "# (this object type can be used as input to the model)\n",
    "raw_train_set = tf.keras.utils.image_dataset_from_directory(subset_dir, image_size=(224, 224))\n"
   ]
  },
  {
   "cell_type": "markdown",
   "id": "3ca96cd8",
   "metadata": {
    "papermill": {
     "duration": 0.004605,
     "end_time": "2023-12-16T14:54:45.374030",
     "exception": false,
     "start_time": "2023-12-16T14:54:45.369425",
     "status": "completed"
    },
    "tags": []
   },
   "source": [
    "model building "
   ]
  },
  {
   "cell_type": "code",
   "execution_count": 5,
   "id": "a5114f2d",
   "metadata": {
    "execution": {
     "iopub.execute_input": "2023-12-16T14:54:45.385685Z",
     "iopub.status.busy": "2023-12-16T14:54:45.384657Z",
     "iopub.status.idle": "2023-12-16T14:54:46.001865Z",
     "shell.execute_reply": "2023-12-16T14:54:46.000572Z"
    },
    "papermill": {
     "duration": 0.625441,
     "end_time": "2023-12-16T14:54:46.004217",
     "exception": false,
     "start_time": "2023-12-16T14:54:45.378776",
     "status": "completed"
    },
    "tags": []
   },
   "outputs": [
    {
     "name": "stdout",
     "output_type": "stream",
     "text": [
      "done\n"
     ]
    }
   ],
   "source": [
    "#not normalising values as per: https://cs231n.github.io/neural-networks-2/#datapre\n",
    "'''# Normalise images to [0-1] scale\n",
    "train_set = raw_train_set.map(lambda x, y: (x / 255, y))'''\n",
    "\n",
    "#function to use:\n",
    "#X -= np.mean(X)\n",
    "\n",
    "#because raw_train_set is a tf.data.dataset, need to use map \n",
    "#calculate mean across dimensions of a tensor\n",
    "train_set = raw_train_set.map(lambda x, y: (x - tf.reduce_mean(x), y))\n",
    "\n",
    "\n",
    "# Separate images and labels\n",
    "images, labels = next(iter(train_set))\n",
    "\n",
    "# Prepare data for training\n",
    "X_train = images\n",
    "y_train = pd.get_dummies(labels)\n",
    "\n",
    "\n",
    "\n",
    "print('done')"
   ]
  },
  {
   "cell_type": "code",
   "execution_count": 6,
   "id": "00a74088",
   "metadata": {
    "execution": {
     "iopub.execute_input": "2023-12-16T14:54:46.016638Z",
     "iopub.status.busy": "2023-12-16T14:54:46.015553Z",
     "iopub.status.idle": "2023-12-16T14:54:46.035373Z",
     "shell.execute_reply": "2023-12-16T14:54:46.034325Z"
    },
    "papermill": {
     "duration": 0.028508,
     "end_time": "2023-12-16T14:54:46.037862",
     "exception": false,
     "start_time": "2023-12-16T14:54:46.009354",
     "status": "completed"
    },
    "tags": []
   },
   "outputs": [
    {
     "data": {
      "text/html": [
       "<div>\n",
       "<style scoped>\n",
       "    .dataframe tbody tr th:only-of-type {\n",
       "        vertical-align: middle;\n",
       "    }\n",
       "\n",
       "    .dataframe tbody tr th {\n",
       "        vertical-align: top;\n",
       "    }\n",
       "\n",
       "    .dataframe thead th {\n",
       "        text-align: right;\n",
       "    }\n",
       "</style>\n",
       "<table border=\"1\" class=\"dataframe\">\n",
       "  <thead>\n",
       "    <tr style=\"text-align: right;\">\n",
       "      <th></th>\n",
       "      <th>0</th>\n",
       "      <th>1</th>\n",
       "      <th>2</th>\n",
       "    </tr>\n",
       "  </thead>\n",
       "  <tbody>\n",
       "    <tr>\n",
       "      <th>0</th>\n",
       "      <td>False</td>\n",
       "      <td>False</td>\n",
       "      <td>True</td>\n",
       "    </tr>\n",
       "    <tr>\n",
       "      <th>1</th>\n",
       "      <td>False</td>\n",
       "      <td>True</td>\n",
       "      <td>False</td>\n",
       "    </tr>\n",
       "    <tr>\n",
       "      <th>2</th>\n",
       "      <td>False</td>\n",
       "      <td>True</td>\n",
       "      <td>False</td>\n",
       "    </tr>\n",
       "    <tr>\n",
       "      <th>3</th>\n",
       "      <td>True</td>\n",
       "      <td>False</td>\n",
       "      <td>False</td>\n",
       "    </tr>\n",
       "    <tr>\n",
       "      <th>4</th>\n",
       "      <td>False</td>\n",
       "      <td>False</td>\n",
       "      <td>True</td>\n",
       "    </tr>\n",
       "    <tr>\n",
       "      <th>5</th>\n",
       "      <td>False</td>\n",
       "      <td>False</td>\n",
       "      <td>True</td>\n",
       "    </tr>\n",
       "    <tr>\n",
       "      <th>6</th>\n",
       "      <td>False</td>\n",
       "      <td>True</td>\n",
       "      <td>False</td>\n",
       "    </tr>\n",
       "    <tr>\n",
       "      <th>7</th>\n",
       "      <td>False</td>\n",
       "      <td>True</td>\n",
       "      <td>False</td>\n",
       "    </tr>\n",
       "    <tr>\n",
       "      <th>8</th>\n",
       "      <td>True</td>\n",
       "      <td>False</td>\n",
       "      <td>False</td>\n",
       "    </tr>\n",
       "    <tr>\n",
       "      <th>9</th>\n",
       "      <td>True</td>\n",
       "      <td>False</td>\n",
       "      <td>False</td>\n",
       "    </tr>\n",
       "    <tr>\n",
       "      <th>10</th>\n",
       "      <td>False</td>\n",
       "      <td>False</td>\n",
       "      <td>True</td>\n",
       "    </tr>\n",
       "    <tr>\n",
       "      <th>11</th>\n",
       "      <td>False</td>\n",
       "      <td>False</td>\n",
       "      <td>True</td>\n",
       "    </tr>\n",
       "    <tr>\n",
       "      <th>12</th>\n",
       "      <td>False</td>\n",
       "      <td>True</td>\n",
       "      <td>False</td>\n",
       "    </tr>\n",
       "    <tr>\n",
       "      <th>13</th>\n",
       "      <td>False</td>\n",
       "      <td>False</td>\n",
       "      <td>True</td>\n",
       "    </tr>\n",
       "    <tr>\n",
       "      <th>14</th>\n",
       "      <td>False</td>\n",
       "      <td>True</td>\n",
       "      <td>False</td>\n",
       "    </tr>\n",
       "    <tr>\n",
       "      <th>15</th>\n",
       "      <td>True</td>\n",
       "      <td>False</td>\n",
       "      <td>False</td>\n",
       "    </tr>\n",
       "    <tr>\n",
       "      <th>16</th>\n",
       "      <td>False</td>\n",
       "      <td>True</td>\n",
       "      <td>False</td>\n",
       "    </tr>\n",
       "    <tr>\n",
       "      <th>17</th>\n",
       "      <td>True</td>\n",
       "      <td>False</td>\n",
       "      <td>False</td>\n",
       "    </tr>\n",
       "    <tr>\n",
       "      <th>18</th>\n",
       "      <td>False</td>\n",
       "      <td>True</td>\n",
       "      <td>False</td>\n",
       "    </tr>\n",
       "    <tr>\n",
       "      <th>19</th>\n",
       "      <td>True</td>\n",
       "      <td>False</td>\n",
       "      <td>False</td>\n",
       "    </tr>\n",
       "    <tr>\n",
       "      <th>20</th>\n",
       "      <td>True</td>\n",
       "      <td>False</td>\n",
       "      <td>False</td>\n",
       "    </tr>\n",
       "    <tr>\n",
       "      <th>21</th>\n",
       "      <td>False</td>\n",
       "      <td>False</td>\n",
       "      <td>True</td>\n",
       "    </tr>\n",
       "    <tr>\n",
       "      <th>22</th>\n",
       "      <td>True</td>\n",
       "      <td>False</td>\n",
       "      <td>False</td>\n",
       "    </tr>\n",
       "    <tr>\n",
       "      <th>23</th>\n",
       "      <td>True</td>\n",
       "      <td>False</td>\n",
       "      <td>False</td>\n",
       "    </tr>\n",
       "    <tr>\n",
       "      <th>24</th>\n",
       "      <td>False</td>\n",
       "      <td>False</td>\n",
       "      <td>True</td>\n",
       "    </tr>\n",
       "    <tr>\n",
       "      <th>25</th>\n",
       "      <td>False</td>\n",
       "      <td>True</td>\n",
       "      <td>False</td>\n",
       "    </tr>\n",
       "    <tr>\n",
       "      <th>26</th>\n",
       "      <td>True</td>\n",
       "      <td>False</td>\n",
       "      <td>False</td>\n",
       "    </tr>\n",
       "    <tr>\n",
       "      <th>27</th>\n",
       "      <td>False</td>\n",
       "      <td>True</td>\n",
       "      <td>False</td>\n",
       "    </tr>\n",
       "    <tr>\n",
       "      <th>28</th>\n",
       "      <td>False</td>\n",
       "      <td>False</td>\n",
       "      <td>True</td>\n",
       "    </tr>\n",
       "    <tr>\n",
       "      <th>29</th>\n",
       "      <td>True</td>\n",
       "      <td>False</td>\n",
       "      <td>False</td>\n",
       "    </tr>\n",
       "    <tr>\n",
       "      <th>30</th>\n",
       "      <td>True</td>\n",
       "      <td>False</td>\n",
       "      <td>False</td>\n",
       "    </tr>\n",
       "    <tr>\n",
       "      <th>31</th>\n",
       "      <td>False</td>\n",
       "      <td>True</td>\n",
       "      <td>False</td>\n",
       "    </tr>\n",
       "  </tbody>\n",
       "</table>\n",
       "</div>"
      ],
      "text/plain": [
       "        0      1      2\n",
       "0   False  False   True\n",
       "1   False   True  False\n",
       "2   False   True  False\n",
       "3    True  False  False\n",
       "4   False  False   True\n",
       "5   False  False   True\n",
       "6   False   True  False\n",
       "7   False   True  False\n",
       "8    True  False  False\n",
       "9    True  False  False\n",
       "10  False  False   True\n",
       "11  False  False   True\n",
       "12  False   True  False\n",
       "13  False  False   True\n",
       "14  False   True  False\n",
       "15   True  False  False\n",
       "16  False   True  False\n",
       "17   True  False  False\n",
       "18  False   True  False\n",
       "19   True  False  False\n",
       "20   True  False  False\n",
       "21  False  False   True\n",
       "22   True  False  False\n",
       "23   True  False  False\n",
       "24  False  False   True\n",
       "25  False   True  False\n",
       "26   True  False  False\n",
       "27  False   True  False\n",
       "28  False  False   True\n",
       "29   True  False  False\n",
       "30   True  False  False\n",
       "31  False   True  False"
      ]
     },
     "execution_count": 6,
     "metadata": {},
     "output_type": "execute_result"
    }
   ],
   "source": [
    "y_train"
   ]
  },
  {
   "cell_type": "markdown",
   "id": "35c132c9",
   "metadata": {
    "papermill": {
     "duration": 0.00509,
     "end_time": "2023-12-16T14:54:46.048451",
     "exception": false,
     "start_time": "2023-12-16T14:54:46.043361",
     "status": "completed"
    },
    "tags": []
   },
   "source": []
  },
  {
   "cell_type": "markdown",
   "id": "dc889160",
   "metadata": {
    "papermill": {
     "duration": 0.004923,
     "end_time": "2023-12-16T14:54:46.058751",
     "exception": false,
     "start_time": "2023-12-16T14:54:46.053828",
     "status": "completed"
    },
    "tags": []
   },
   "source": [
    "Train a CNN (11 layers at first). Specifically: \n",
    "train using minibatch gradient descent (size 256), backpropagation w momentum. \n",
    "the learning rate (start at 10-2) decreased 3 times, and the learning stopped after 370K iterations (74 epochs).\n",
    "L2 regularization, penalty multiplier set to 5 · 10−4 \n",
    "Dropout regularization \n",
    "Weight initialization (paragraph 3.1: Training)  is random for shallow network and then weights are transferred to deeper model (LR didn’t change for transferred theta values once transferred to deeper model). \n",
    "Training image size: S =  384 and S = 256. Isotropical rescale: It means apply the same scaling factor along width and height, so the image doesn't become distorted along one axis.\n"
   ]
  },
  {
   "cell_type": "markdown",
   "id": "e357d4be",
   "metadata": {
    "papermill": {
     "duration": 0.00499,
     "end_time": "2023-12-16T14:54:46.068886",
     "exception": false,
     "start_time": "2023-12-16T14:54:46.063896",
     "status": "completed"
    },
    "tags": []
   },
   "source": [
    "docs for: \n",
    "\n",
    "**tf.keras.layers.Dense(**\n",
    "    units,\n",
    "    activation=None,\n",
    "    use_bias=True,\n",
    "    kernel_initializer='glorot_uniform',\n",
    "    bias_initializer='zeros',\n",
    "    kernel_regularizer=None,\n",
    "    bias_regularizer=None,\n",
    "    activity_regularizer=None,\n",
    "    kernel_constraint=None,\n",
    "    bias_constraint=None,\n",
    "    ** kwargs\n",
    ")\n",
    "\n",
    "and \n",
    "\n",
    "**keras.layers.Conv2D** ( filters,\n",
    "    kernel_size,\n",
    "    strides=(1, 1),\n",
    "    padding='valid',\n",
    "    data_format=None,\n",
    "    dilation_rate=(1, 1),\n",
    "    groups=1,\n",
    "    activation=None,\n",
    "    use_bias=True,\n",
    "    kernel_initializer='glorot_uniform',\n",
    "    bias_initializer='zeros',\n",
    "    kernel_regularizer=None,\n",
    "    bias_regularizer=None,\n",
    "    activity_regularizer=None,\n",
    "    kernel_constraint=None,\n",
    "    bias_constraint=None,\n",
    "    ** kwargs\n",
    "\n",
    "and \n",
    "\n",
    "**tf.keras.layers.MaxPooling2D**(\n",
    "    pool_size=(2, 2),\n",
    "    strides=None,\n",
    "    padding='valid',\n",
    "    data_format=None,\n",
    "    **kwargs\n",
    ")"
   ]
  },
  {
   "cell_type": "code",
   "execution_count": 7,
   "id": "9e7b4f6c",
   "metadata": {
    "execution": {
     "iopub.execute_input": "2023-12-16T14:54:46.081250Z",
     "iopub.status.busy": "2023-12-16T14:54:46.080807Z",
     "iopub.status.idle": "2023-12-16T14:55:25.225714Z",
     "shell.execute_reply": "2023-12-16T14:55:25.224531Z"
    },
    "papermill": {
     "duration": 39.154206,
     "end_time": "2023-12-16T14:55:25.228409",
     "exception": false,
     "start_time": "2023-12-16T14:54:46.074203",
     "status": "completed"
    },
    "tags": []
   },
   "outputs": [],
   "source": [
    "#Transfer Learning\n",
    "# Import pretrained base\n",
    "model_file = \"/kaggle/input/11-layer-3-class/3class_model.keras\"\n",
    "\n",
    "# Save model into file for replication purposes\n",
    "\n",
    "new_model = tf.keras.models.load_model(model_file)\n",
    "\n",
    "# IMPORTANT: Set weights from base as untrainable\n",
    "new_model.trainable = True"
   ]
  },
  {
   "cell_type": "code",
   "execution_count": 8,
   "id": "f03241b7",
   "metadata": {
    "execution": {
     "iopub.execute_input": "2023-12-16T14:55:25.241975Z",
     "iopub.status.busy": "2023-12-16T14:55:25.241563Z",
     "iopub.status.idle": "2023-12-16T14:55:25.247665Z",
     "shell.execute_reply": "2023-12-16T14:55:25.246268Z"
    },
    "papermill": {
     "duration": 0.015041,
     "end_time": "2023-12-16T14:55:25.249690",
     "exception": false,
     "start_time": "2023-12-16T14:55:25.234649",
     "status": "completed"
    },
    "tags": []
   },
   "outputs": [],
   "source": [
    "# List indices of relevant layers (only convolutional, no maxpool)\n",
    "layer_positions = [0, 2, 4, 5, 7, 8, 10, 11]\n",
    "\n",
    "# Select relevant layers\n",
    "pretrained_layers = [new_model.get_layer(index=i) for i in layer_positions]"
   ]
  },
  {
   "cell_type": "code",
   "execution_count": 9,
   "id": "f9f2c7eb",
   "metadata": {
    "execution": {
     "iopub.execute_input": "2023-12-16T14:55:25.261872Z",
     "iopub.status.busy": "2023-12-16T14:55:25.261447Z",
     "iopub.status.idle": "2023-12-16T14:55:26.471526Z",
     "shell.execute_reply": "2023-12-16T14:55:26.470422Z"
    },
    "papermill": {
     "duration": 1.219075,
     "end_time": "2023-12-16T14:55:26.474133",
     "exception": false,
     "start_time": "2023-12-16T14:55:25.255058",
     "status": "completed"
    },
    "tags": []
   },
   "outputs": [],
   "source": [
    "model = tf.keras.models.Sequential()\n",
    "\n",
    "model.add(pretrained_layers[0]) #conv3-64 layer 1\n",
    "model.add(layers.Conv2D(64, (3, 3), activation='relu',padding= \"same\", name='19_layer_2' )) #conv3-64 layer 2\n",
    "model.add(layers.MaxPooling2D((2, 2), strides = (2,2))) #maxpool 1\n",
    "\n",
    "model.add(pretrained_layers[1]) #conv3-128 layer 3\n",
    "model.add(layers.Conv2D(128, (3, 3), activation='relu',padding= \"same\", name='19_layer_4' )) #conv3-128 layer 4\n",
    "model.add(layers.MaxPooling2D((2, 2), strides = (2,2))) #maxpool 2\n",
    "\n",
    "model.add(pretrained_layers[2]) #conv3-256 layer 5\n",
    "model.add(pretrained_layers[3]) #conv3-256 layer 6\n",
    "model.add(layers.Conv2D(256, (3, 3), activation='relu',padding= \"same\", name='19_layer_7' )) #conv3-256 layer 7\n",
    "model.add(layers.Conv2D(256, (3, 3), activation='relu',padding= \"same\", name='19_layer_8' )) #conv3-256 layer 8\n",
    "model.add(layers.MaxPooling2D((2, 2), strides = (2,2))) #maxpool 3\n",
    "\n",
    "model.add(pretrained_layers[4]) #conv3-256 layer 9\n",
    "model.add(pretrained_layers[5]) #conv3-256 layer 10\n",
    "model.add(layers.Conv2D(512, (3, 3), activation='relu',padding= \"same\", name='19_layer_11')) #conv3-256 layer 11\n",
    "model.add(layers.Conv2D(512, (3, 3), activation='relu',padding= \"same\", name='19_layer_12')) #conv3-256 layer 12\n",
    "model.add(layers.MaxPooling2D((2, 2), strides = (2,2))) #maxpool 4\n",
    "\n",
    "model.add(pretrained_layers[6]) #conv3-512 layer 13\n",
    "model.add(pretrained_layers[7]) #conv3-512 layer 14\n",
    "model.add(layers.Conv2D(512, (3, 3), activation='relu',padding= \"same\", name='19_layer_15')) #conv3-512 layer 15\n",
    "model.add(layers.Conv2D(512, (3, 3), activation='relu',padding= \"same\", name='19_layer_16')) #conv3-256 layer 16\n",
    "model.add(layers.MaxPooling2D((2, 2), strides = (2,2))) #maxpool 5 - final\n",
    "\n",
    "model.add(layers.Flatten()) #necessary for 1D Dense layer\n",
    "model.add(layers.Dense(4096, activation='relu')) # FC 1 layer 9\n",
    "model.add(layers.Dropout(0.5))\n",
    "model.add(layers.Dense(4096, activation='relu')) #FC 2 layer 10\n",
    "model.add(layers.Dropout(0.5))\n",
    "model.add(layers.Dense(3, activation='relu')) # FC 3 layer 11\n",
    "model.add(layers.Softmax())"
   ]
  },
  {
   "cell_type": "code",
   "execution_count": 10,
   "id": "61eeb5ab",
   "metadata": {
    "execution": {
     "iopub.execute_input": "2023-12-16T14:55:26.486561Z",
     "iopub.status.busy": "2023-12-16T14:55:26.486180Z",
     "iopub.status.idle": "2023-12-16T14:55:26.564822Z",
     "shell.execute_reply": "2023-12-16T14:55:26.563628Z"
    },
    "papermill": {
     "duration": 0.100947,
     "end_time": "2023-12-16T14:55:26.580550",
     "exception": false,
     "start_time": "2023-12-16T14:55:26.479603",
     "status": "completed"
    },
    "tags": []
   },
   "outputs": [
    {
     "name": "stdout",
     "output_type": "stream",
     "text": [
      "Model: \"sequential\"\n",
      "_________________________________________________________________\n",
      " Layer (type)                Output Shape              Param #   \n",
      "=================================================================\n",
      " conv2d (Conv2D)             (None, 224, 224, 64)      1792      \n",
      "                                                                 \n",
      " 19_layer_2 (Conv2D)         (None, 224, 224, 64)      36928     \n",
      "                                                                 \n",
      " max_pooling2d (MaxPooling2  (None, 112, 112, 64)      0         \n",
      " D)                                                              \n",
      "                                                                 \n",
      " conv2d_1 (Conv2D)           (None, 112, 112, 128)     73856     \n",
      "                                                                 \n",
      " 19_layer_4 (Conv2D)         (None, 112, 112, 128)     147584    \n",
      "                                                                 \n",
      " max_pooling2d_1 (MaxPoolin  (None, 56, 56, 128)       0         \n",
      " g2D)                                                            \n",
      "                                                                 \n",
      " conv2d_2 (Conv2D)           (None, 56, 56, 256)       295168    \n",
      "                                                                 \n",
      " conv2d_3 (Conv2D)           (None, 56, 56, 256)       590080    \n",
      "                                                                 \n",
      " 19_layer_7 (Conv2D)         (None, 56, 56, 256)       590080    \n",
      "                                                                 \n",
      " 19_layer_8 (Conv2D)         (None, 56, 56, 256)       590080    \n",
      "                                                                 \n",
      " max_pooling2d_2 (MaxPoolin  (None, 28, 28, 256)       0         \n",
      " g2D)                                                            \n",
      "                                                                 \n",
      " conv2d_4 (Conv2D)           (None, 28, 28, 512)       1180160   \n",
      "                                                                 \n",
      " conv2d_5 (Conv2D)           (None, 28, 28, 512)       2359808   \n",
      "                                                                 \n",
      " 19_layer_11 (Conv2D)        (None, 28, 28, 512)       2359808   \n",
      "                                                                 \n",
      " 19_layer_12 (Conv2D)        (None, 28, 28, 512)       2359808   \n",
      "                                                                 \n",
      " max_pooling2d_3 (MaxPoolin  (None, 14, 14, 512)       0         \n",
      " g2D)                                                            \n",
      "                                                                 \n",
      " conv2d_6 (Conv2D)           (None, 14, 14, 512)       2359808   \n",
      "                                                                 \n",
      " conv2d_7 (Conv2D)           (None, 14, 14, 512)       2359808   \n",
      "                                                                 \n",
      " 19_layer_15 (Conv2D)        (None, 14, 14, 512)       2359808   \n",
      "                                                                 \n",
      " 19_layer_16 (Conv2D)        (None, 14, 14, 512)       2359808   \n",
      "                                                                 \n",
      " max_pooling2d_4 (MaxPoolin  (None, 7, 7, 512)         0         \n",
      " g2D)                                                            \n",
      "                                                                 \n",
      " flatten (Flatten)           (None, 25088)             0         \n",
      "                                                                 \n",
      " dense (Dense)               (None, 4096)              102764544 \n",
      "                                                                 \n",
      " dropout (Dropout)           (None, 4096)              0         \n",
      "                                                                 \n",
      " dense_1 (Dense)             (None, 4096)              16781312  \n",
      "                                                                 \n",
      " dropout_1 (Dropout)         (None, 4096)              0         \n",
      "                                                                 \n",
      " dense_2 (Dense)             (None, 3)                 12291     \n",
      "                                                                 \n",
      " softmax (Softmax)           (None, 3)                 0         \n",
      "                                                                 \n",
      "=================================================================\n",
      "Total params: 139582531 (532.47 MB)\n",
      "Trainable params: 139582531 (532.47 MB)\n",
      "Non-trainable params: 0 (0.00 Byte)\n",
      "_________________________________________________________________\n"
     ]
    }
   ],
   "source": [
    "model.summary()"
   ]
  },
  {
   "cell_type": "code",
   "execution_count": 11,
   "id": "085df83d",
   "metadata": {
    "execution": {
     "iopub.execute_input": "2023-12-16T14:55:26.601405Z",
     "iopub.status.busy": "2023-12-16T14:55:26.601017Z",
     "iopub.status.idle": "2023-12-16T14:56:12.598310Z",
     "shell.execute_reply": "2023-12-16T14:56:12.596982Z"
    },
    "papermill": {
     "duration": 46.010913,
     "end_time": "2023-12-16T14:56:12.601035",
     "exception": false,
     "start_time": "2023-12-16T14:55:26.590122",
     "status": "completed"
    },
    "tags": []
   },
   "outputs": [
    {
     "name": "stdout",
     "output_type": "stream",
     "text": [
      "Fit model on training data\n",
      "2/2 [==============================] - 38s 17s/step - loss: nan - categorical_accuracy: 0.3750\n"
     ]
    }
   ],
   "source": [
    "#train model \n",
    "\n",
    "from keras.optimizers import SGD\n",
    "\n",
    "# Define the optimizer separately so we have better hyperparams control \n",
    "sgd = SGD(lr=0.01, momentum=0.9, weight_decay = 0.0005) #TODO: change learning rate and CHECK WEIGHT DECAU\n",
    "\n",
    "#in 11 layer, paper initializes weights randomly\n",
    "#this is redundant as this is the default initialisation method, keeping just for reference in later models w/ > layers \n",
    "weights = [np.random.rand(*w.shape) for w in model.get_weights()]\n",
    "model.set_weights(weights)\n",
    "\n",
    "# Compile the model\n",
    "#model.compile(loss='categorical_crossentropy', optimizer=sgd)\n",
    "\n",
    "model.compile(\n",
    "    optimizer=sgd,  # Optimizer\n",
    "    # Loss function to minimize\n",
    "    loss='categorical_crossentropy', #multinomial logistic regression\n",
    "    # List of metrics to monitor\n",
    "    metrics=['categorical_accuracy']\n",
    ")\n",
    "\n",
    "\n",
    "print(\"Fit model on training data\")\n",
    "history = model.fit(\n",
    "    X_train, #X_train = images\n",
    "    y_train, #pd.get_dummies(labels)\n",
    "    batch_size=16, \n",
    "    #validation_split=0.15, #we might not need to do this? as this is just a test \n",
    "    epochs=1, #should be 74 \n",
    ")"
   ]
  },
  {
   "cell_type": "code",
   "execution_count": 12,
   "id": "c3e6e66d",
   "metadata": {
    "execution": {
     "iopub.execute_input": "2023-12-16T14:56:12.624304Z",
     "iopub.status.busy": "2023-12-16T14:56:12.623270Z",
     "iopub.status.idle": "2023-12-16T14:56:12.868738Z",
     "shell.execute_reply": "2023-12-16T14:56:12.867588Z"
    },
    "papermill": {
     "duration": 0.259389,
     "end_time": "2023-12-16T14:56:12.870978",
     "exception": false,
     "start_time": "2023-12-16T14:56:12.611589",
     "status": "completed"
    },
    "tags": []
   },
   "outputs": [
    {
     "data": {
      "text/plain": [
       "[<matplotlib.lines.Line2D at 0x7b1aefb6ba00>]"
      ]
     },
     "execution_count": 12,
     "metadata": {},
     "output_type": "execute_result"
    },
    {
     "data": {
      "image/png": "[encoded data removed]",
      "text/plain": [
       "<Figure size 640x480 with 1 Axes>"
      ]
     },
     "metadata": {},
     "output_type": "display_data"
    }
   ],
   "source": [
    "#The returned history object holds a record of the loss values and metric values during training:\n",
    "'''history_df = pd.DataFrame(history.history)\n",
    "\n",
    "history_df.loc[:, \"loss\"].plot()\n",
    "'''\n",
    "plt.plot(history.history['loss'])"
   ]
  },
  {
   "cell_type": "code",
   "execution_count": 13,
   "id": "d6b24178",
   "metadata": {
    "execution": {
     "iopub.execute_input": "2023-12-16T14:56:12.894008Z",
     "iopub.status.busy": "2023-12-16T14:56:12.893034Z",
     "iopub.status.idle": "2023-12-16T14:56:12.898470Z",
     "shell.execute_reply": "2023-12-16T14:56:12.897453Z"
    },
    "papermill": {
     "duration": 0.019523,
     "end_time": "2023-12-16T14:56:12.900747",
     "exception": false,
     "start_time": "2023-12-16T14:56:12.881224",
     "status": "completed"
    },
    "tags": []
   },
   "outputs": [],
   "source": [
    "#DONE: subtract the mean RGB value, computed on the training set, from each pixel\n",
    "#TODO: check if need to zero gradient after update or done under hood in Tensor Flow \n",
    "\n",
    "\n",
    "#meeting 7th dec \n",
    "#add regularization in dense layers\n",
    "#weight decay\n",
    "#weights are initially randomized automaticamente da keras so extra one liner is non necessary for now \n",
    "\n",
    "\n",
    "#LR SHOULD DECAY PER PAPER 3 times up to 10 alla -5 \n",
    "\n",
    "#TODO \n",
    "#regularization and weight decay austin\n",
    "#checking krizhevsky austin\n",
    "#image scaling Irene\n",
    "#saving model in a file and transfer learning into a new file + subsetting layers Giulio \n",
    "#subtract the mean RGB value, computed on the training set, from each pixel  Irene"
   ]
  }
 ],
 "metadata": {
  "kaggle": {
   "accelerator": "none",
   "dataSources": [
    {
     "databundleVersionId": 4225553,
     "sourceId": 6799,
     "sourceType": "competition"
    },
    {
     "datasetId": 4176164,
     "sourceId": 7216294,
     "sourceType": "datasetVersion"
    }
   ],
   "dockerImageVersionId": 30626,
   "isGpuEnabled": false,
   "isInternetEnabled": false,
   "language": "python",
   "sourceType": "notebook"
  },
  "kernelspec": {
   "display_name": "Python 3",
   "language": "python",
   "name": "python3"
  },
  "language_info": {
   "codemirror_mode": {
    "name": "ipython",
    "version": 3
   },
   "file_extension": ".py",
   "mimetype": "text/x-python",
   "name": "python",
   "nbconvert_exporter": "python",
   "pygments_lexer": "ipython3",
   "version": "3.10.12"
  },
  "papermill": {
   "default_parameters": {},
   "duration": 131.103248,
   "end_time": "2023-12-16T14:56:15.461550",
   "environment_variables": {},
   "exception": null,
   "input_path": "__notebook__.ipynb",
   "output_path": "__notebook__.ipynb",
   "parameters": {},
   "start_time": "2023-12-16T14:54:04.358302",
   "version": "2.4.0"
  }
 },
 "nbformat": 4,
 "nbformat_minor": 5
}
