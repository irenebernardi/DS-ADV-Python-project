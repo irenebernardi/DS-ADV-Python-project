{
 "cells": [
  {
   "cell_type": "code",
   "execution_count": 1,
   "id": "2ce04e81",
   "metadata": {
    "execution": {
     "iopub.execute_input": "2023-12-15T20:35:43.520858Z",
     "iopub.status.busy": "2023-12-15T20:35:43.520401Z",
     "iopub.status.idle": "2023-12-15T20:35:56.921711Z",
     "shell.execute_reply": "2023-12-15T20:35:56.920606Z"
    },
    "papermill": {
     "duration": 13.410372,
     "end_time": "2023-12-15T20:35:56.924516",
     "exception": false,
     "start_time": "2023-12-15T20:35:43.514144",
     "status": "completed"
    },
    "tags": []
   },
   "outputs": [],
   "source": [
    "import numpy as np\n",
    "import pandas as pd\n",
    "import tensorflow as tf\n",
    "import os\n",
    "import shutil\n",
    "import tensorflow \n",
    "from tensorflow.keras import layers\n",
    "import matplotlib.pyplot as plt\n",
    "from matplotlib import image"
   ]
  },
  {
   "cell_type": "code",
   "execution_count": 2,
   "id": "8888932c",
   "metadata": {
    "execution": {
     "iopub.execute_input": "2023-12-15T20:35:56.934934Z",
     "iopub.status.busy": "2023-12-15T20:35:56.933758Z",
     "iopub.status.idle": "2023-12-15T20:35:56.938671Z",
     "shell.execute_reply": "2023-12-15T20:35:56.937754Z"
    },
    "papermill": {
     "duration": 0.011822,
     "end_time": "2023-12-15T20:35:56.940671",
     "exception": false,
     "start_time": "2023-12-15T20:35:56.928849",
     "status": "completed"
    },
    "tags": []
   },
   "outputs": [],
   "source": [
    "# Define constants\n",
    "\n",
    "# Define number of classes to use (this is a way to subset the data)\n",
    "CLASS_NUM = 3\n",
    "\n",
    "BATCH_SIZE = 32"
   ]
  },
  {
   "cell_type": "code",
   "execution_count": 3,
   "id": "9bbf3256",
   "metadata": {
    "execution": {
     "iopub.execute_input": "2023-12-15T20:35:56.949481Z",
     "iopub.status.busy": "2023-12-15T20:35:56.949166Z",
     "iopub.status.idle": "2023-12-15T20:36:34.225318Z",
     "shell.execute_reply": "2023-12-15T20:36:34.224416Z"
    },
    "papermill": {
     "duration": 37.284794,
     "end_time": "2023-12-15T20:36:34.229238",
     "exception": false,
     "start_time": "2023-12-15T20:35:56.944444",
     "status": "completed"
    },
    "tags": []
   },
   "outputs": [
    {
     "name": "stdout",
     "output_type": "stream",
     "text": [
      "/kaggle/working/data created!\n",
      "n01531178 succesfully copied!\n",
      "n02412080 succesfully copied!\n",
      "n02098413 succesfully copied!\n"
     ]
    }
   ],
   "source": [
    "#data preprocessing \n",
    "# Store paths to base, train set and subset dirs\n",
    "base_dir = \"/kaggle/input/imagenet-object-localization-challenge\"\n",
    "train_dir = base_dir + \"/ILSVRC/Data/CLS-LOC/train\"\n",
    "subset_dir = \"/kaggle/working/data\"\n",
    "\n",
    "if not os.path.exists(subset_dir):\n",
    "    os.mkdir(subset_dir)\n",
    "    print(subset_dir, \"created!\")\n",
    "else:\n",
    "    print(subset_dir, \"already exists!\")\n",
    "    \n",
    "# Select only first n class dirs\n",
    "class_dirs = os.listdir(train_dir)[:CLASS_NUM]\n",
    "\n",
    "# Copy class dir from train set to working dir\n",
    "for class_dir in class_dirs:\n",
    "    # Define current source and destination paths\n",
    "    source_dir = train_dir + \"/\" + class_dir\n",
    "    destination_dir = subset_dir + \"/\" + class_dir\n",
    "    \n",
    "    # If new class, copy to working dir\n",
    "    if not os.path.exists(destination_dir):\n",
    "        shutil.copytree(source_dir, destination_dir)\n",
    "        print(class_dir, \"succesfully copied!\")\n",
    "    # If it exists, don't copy again\n",
    "    else:\n",
    "        print(class_dir, \"doesn't need copying!\")"
   ]
  },
  {
   "cell_type": "code",
   "execution_count": 4,
   "id": "3f2e273f",
   "metadata": {
    "execution": {
     "iopub.execute_input": "2023-12-15T20:36:34.239568Z",
     "iopub.status.busy": "2023-12-15T20:36:34.238923Z",
     "iopub.status.idle": "2023-12-15T20:36:34.596574Z",
     "shell.execute_reply": "2023-12-15T20:36:34.595470Z"
    },
    "papermill": {
     "duration": 0.365818,
     "end_time": "2023-12-15T20:36:34.599210",
     "exception": false,
     "start_time": "2023-12-15T20:36:34.233392",
     "status": "completed"
    },
    "tags": []
   },
   "outputs": [
    {
     "name": "stdout",
     "output_type": "stream",
     "text": [
      "Found 3900 files belonging to 3 classes.\n"
     ]
    }
   ],
   "source": [
    "# Import train set as a Dataset object\n",
    "# (this object type can be used as input to the model)\n",
    "raw_train_set = tf.keras.utils.image_dataset_from_directory(subset_dir, image_size=(224, 224))\n"
   ]
  },
  {
   "cell_type": "markdown",
   "id": "6fb2d570",
   "metadata": {
    "papermill": {
     "duration": 0.004486,
     "end_time": "2023-12-15T20:36:34.608025",
     "exception": false,
     "start_time": "2023-12-15T20:36:34.603539",
     "status": "completed"
    },
    "tags": []
   },
   "source": [
    "model building "
   ]
  },
  {
   "cell_type": "code",
   "execution_count": 5,
   "id": "b4836414",
   "metadata": {
    "execution": {
     "iopub.execute_input": "2023-12-15T20:36:34.618038Z",
     "iopub.status.busy": "2023-12-15T20:36:34.617630Z",
     "iopub.status.idle": "2023-12-15T20:36:35.234526Z",
     "shell.execute_reply": "2023-12-15T20:36:35.233394Z"
    },
    "papermill": {
     "duration": 0.62452,
     "end_time": "2023-12-15T20:36:35.236815",
     "exception": false,
     "start_time": "2023-12-15T20:36:34.612295",
     "status": "completed"
    },
    "tags": []
   },
   "outputs": [
    {
     "name": "stdout",
     "output_type": "stream",
     "text": [
      "done\n"
     ]
    }
   ],
   "source": [
    "#not normalising values as per: https://cs231n.github.io/neural-networks-2/#datapre\n",
    "'''# Normalise images to [0-1] scale\n",
    "train_set = raw_train_set.map(lambda x, y: (x / 255, y))'''\n",
    "\n",
    "#function to use:\n",
    "#X -= np.mean(X)\n",
    "\n",
    "#because raw_train_set is a tf.data.dataset, need to use map \n",
    "#calculate mean across dimensions of a tensor\n",
    "train_set = raw_train_set.map(lambda x, y: (x - tf.reduce_mean(x), y))\n",
    "\n",
    "\n",
    "# Separate images and labels\n",
    "images, labels = next(iter(train_set))\n",
    "\n",
    "# Prepare data for training\n",
    "X_train = images\n",
    "y_train = pd.get_dummies(labels)\n",
    "\n",
    "\n",
    "\n",
    "print('done')"
   ]
  },
  {
   "cell_type": "markdown",
   "id": "4bf6af96",
   "metadata": {
    "papermill": {
     "duration": 0.004058,
     "end_time": "2023-12-15T20:36:35.245397",
     "exception": false,
     "start_time": "2023-12-15T20:36:35.241339",
     "status": "completed"
    },
    "tags": []
   },
   "source": []
  },
  {
   "cell_type": "markdown",
   "id": "bd8b42cf",
   "metadata": {
    "papermill": {
     "duration": 0.004054,
     "end_time": "2023-12-15T20:36:35.254050",
     "exception": false,
     "start_time": "2023-12-15T20:36:35.249996",
     "status": "completed"
    },
    "tags": []
   },
   "source": [
    "Train a CNN (11 layers at first). Specifically: \n",
    "train using minibatch gradient descent (size 256), backpropagation w momentum. \n",
    "the learning rate (start at 10-2) decreased 3 times, and the learning stopped after 370K iterations (74 epochs).\n",
    "L2 regularization, penalty multiplier set to 5 · 10−4 \n",
    "Dropout regularization \n",
    "Weight initialization (paragraph 3.1: Training)  is random for shallow network and then weights are transferred to deeper model (LR didn’t change for transferred theta values once transferred to deeper model). \n",
    "Training image size: S =  384 and S = 256. Isotropical rescale: It means apply the same scaling factor along width and height, so the image doesn't become distorted along one axis.\n"
   ]
  },
  {
   "cell_type": "markdown",
   "id": "160edb06",
   "metadata": {
    "papermill": {
     "duration": 0.003869,
     "end_time": "2023-12-15T20:36:35.262081",
     "exception": false,
     "start_time": "2023-12-15T20:36:35.258212",
     "status": "completed"
    },
    "tags": []
   },
   "source": [
    "docs for: \n",
    "\n",
    "**tf.keras.layers.Dense(**\n",
    "    units,\n",
    "    activation=None,\n",
    "    use_bias=True,\n",
    "    kernel_initializer='glorot_uniform',\n",
    "    bias_initializer='zeros',\n",
    "    kernel_regularizer=None,\n",
    "    bias_regularizer=None,\n",
    "    activity_regularizer=None,\n",
    "    kernel_constraint=None,\n",
    "    bias_constraint=None,\n",
    "    ** kwargs\n",
    ")\n",
    "\n",
    "and \n",
    "\n",
    "**keras.layers.Conv2D** ( filters,\n",
    "    kernel_size,\n",
    "    strides=(1, 1),\n",
    "    padding='valid',\n",
    "    data_format=None,\n",
    "    dilation_rate=(1, 1),\n",
    "    groups=1,\n",
    "    activation=None,\n",
    "    use_bias=True,\n",
    "    kernel_initializer='glorot_uniform',\n",
    "    bias_initializer='zeros',\n",
    "    kernel_regularizer=None,\n",
    "    bias_regularizer=None,\n",
    "    activity_regularizer=None,\n",
    "    kernel_constraint=None,\n",
    "    bias_constraint=None,\n",
    "    ** kwargs\n",
    "\n",
    "and \n",
    "\n",
    "**tf.keras.layers.MaxPooling2D**(\n",
    "    pool_size=(2, 2),\n",
    "    strides=None,\n",
    "    padding='valid',\n",
    "    data_format=None,\n",
    "    **kwargs\n",
    ")"
   ]
  },
  {
   "cell_type": "code",
   "execution_count": 6,
   "id": "f4d7a0d6",
   "metadata": {
    "execution": {
     "iopub.execute_input": "2023-12-15T20:36:35.272379Z",
     "iopub.status.busy": "2023-12-15T20:36:35.271966Z",
     "iopub.status.idle": "2023-12-15T20:36:36.882083Z",
     "shell.execute_reply": "2023-12-15T20:36:36.880972Z"
    },
    "papermill": {
     "duration": 1.61823,
     "end_time": "2023-12-15T20:36:36.884458",
     "exception": false,
     "start_time": "2023-12-15T20:36:35.266228",
     "status": "completed"
    },
    "tags": []
   },
   "outputs": [],
   "source": [
    "model = tf.keras.models.Sequential()\n",
    "model.add(layers.Conv2D(64, (3, 3), activation='relu', input_shape=(224, 224, 3),padding= \"same\")) #conv3-64 layer 1\n",
    "model.add(layers.Conv2D(64, (3, 3), activation='relu',padding= \"same\")) #conv3-64 layer 2\n",
    "model.add(layers.MaxPooling2D((2, 2), strides = (2,2))) #maxpool 1\n",
    "model.add(layers.Conv2D(128, (3, 3), activation='relu',padding= \"same\")) #conv3-128 layer 3\n",
    "model.add(layers.Conv2D(128, (3, 3), activation='relu',padding= \"same\")) #conv3-128 layer 4\n",
    "model.add(layers.MaxPooling2D((2, 2), strides = (2,2))) #maxpool 2\n",
    "model.add(layers.Conv2D(256, (3, 3), activation='relu',padding= \"same\")) #conv3-256 layer 5\n",
    "model.add(layers.Conv2D(256, (3, 3), activation='relu',padding= \"same\")) #conv3-256 layer 6\n",
    "model.add(layers.Conv2D(256, (3, 3), activation='relu',padding= \"same\")) #conv3-256 layer 7\n",
    "model.add(layers.MaxPooling2D((2, 2), strides = (2,2))) #maxpool 3\n",
    "model.add(layers.Conv2D(512, (3, 3), activation='relu',padding= \"same\")) #conv3-256 layer 8\n",
    "model.add(layers.Conv2D(512, (3, 3), activation='relu',padding= \"same\")) #conv3-256 layer 9\n",
    "model.add(layers.Conv2D(512, (3, 3), activation='relu',padding= \"same\")) #conv3-256 layer 10\n",
    "model.add(layers.MaxPooling2D((2, 2), strides = (2,2))) #maxpool 4\n",
    "model.add(layers.Conv2D(512, (3, 3), activation='relu',padding= \"same\")) #conv3-512 layer 11\n",
    "model.add(layers.Conv2D(512, (3, 3), activation='relu',padding= \"same\")) #conv3-512 layer 12\n",
    "model.add(layers.Conv2D(512, (3, 3), activation='relu',padding= \"same\")) #conv3-512 layer 13\n",
    "model.add(layers.MaxPooling2D((2, 2), strides = (2,2))) #maxpool 5 - final\n",
    "\n",
    "model.add(layers.Flatten()) #necessary for 1D Dense layer\n",
    "model.add(layers.Dense(4096, activation='relu')) # FC 1 layer 9\n",
    "model.add(layers.Dropout(0.5))\n",
    "model.add(layers.Dense(4096, activation='relu')) #FC 2 layer 10\n",
    "model.add(layers.Dropout(0.5))\n",
    "model.add(layers.Dense(3, activation='relu')) # FC 3 layer 11\n",
    "model.add(layers.Softmax())"
   ]
  },
  {
   "cell_type": "code",
   "execution_count": 7,
   "id": "1e235c4c",
   "metadata": {
    "execution": {
     "iopub.execute_input": "2023-12-15T20:36:36.895165Z",
     "iopub.status.busy": "2023-12-15T20:36:36.894771Z",
     "iopub.status.idle": "2023-12-15T20:36:36.958500Z",
     "shell.execute_reply": "2023-12-15T20:36:36.957409Z"
    },
    "papermill": {
     "duration": 0.090363,
     "end_time": "2023-12-15T20:36:36.979396",
     "exception": false,
     "start_time": "2023-12-15T20:36:36.889033",
     "status": "completed"
    },
    "tags": []
   },
   "outputs": [
    {
     "name": "stdout",
     "output_type": "stream",
     "text": [
      "Model: \"sequential\"\n",
      "_________________________________________________________________\n",
      " Layer (type)                Output Shape              Param #   \n",
      "=================================================================\n",
      " conv2d (Conv2D)             (None, 224, 224, 64)      1792      \n",
      "                                                                 \n",
      " conv2d_1 (Conv2D)           (None, 224, 224, 64)      36928     \n",
      "                                                                 \n",
      " max_pooling2d (MaxPooling2  (None, 112, 112, 64)      0         \n",
      " D)                                                              \n",
      "                                                                 \n",
      " conv2d_2 (Conv2D)           (None, 112, 112, 128)     73856     \n",
      "                                                                 \n",
      " conv2d_3 (Conv2D)           (None, 112, 112, 128)     147584    \n",
      "                                                                 \n",
      " max_pooling2d_1 (MaxPoolin  (None, 56, 56, 128)       0         \n",
      " g2D)                                                            \n",
      "                                                                 \n",
      " conv2d_4 (Conv2D)           (None, 56, 56, 256)       295168    \n",
      "                                                                 \n",
      " conv2d_5 (Conv2D)           (None, 56, 56, 256)       590080    \n",
      "                                                                 \n",
      " conv2d_6 (Conv2D)           (None, 56, 56, 256)       590080    \n",
      "                                                                 \n",
      " max_pooling2d_2 (MaxPoolin  (None, 28, 28, 256)       0         \n",
      " g2D)                                                            \n",
      "                                                                 \n",
      " conv2d_7 (Conv2D)           (None, 28, 28, 512)       1180160   \n",
      "                                                                 \n",
      " conv2d_8 (Conv2D)           (None, 28, 28, 512)       2359808   \n",
      "                                                                 \n",
      " conv2d_9 (Conv2D)           (None, 28, 28, 512)       2359808   \n",
      "                                                                 \n",
      " max_pooling2d_3 (MaxPoolin  (None, 14, 14, 512)       0         \n",
      " g2D)                                                            \n",
      "                                                                 \n",
      " conv2d_10 (Conv2D)          (None, 14, 14, 512)       2359808   \n",
      "                                                                 \n",
      " conv2d_11 (Conv2D)          (None, 14, 14, 512)       2359808   \n",
      "                                                                 \n",
      " conv2d_12 (Conv2D)          (None, 14, 14, 512)       2359808   \n",
      "                                                                 \n",
      " max_pooling2d_4 (MaxPoolin  (None, 7, 7, 512)         0         \n",
      " g2D)                                                            \n",
      "                                                                 \n",
      " flatten (Flatten)           (None, 25088)             0         \n",
      "                                                                 \n",
      " dense (Dense)               (None, 4096)              102764544 \n",
      "                                                                 \n",
      " dropout (Dropout)           (None, 4096)              0         \n",
      "                                                                 \n",
      " dense_1 (Dense)             (None, 4096)              16781312  \n",
      "                                                                 \n",
      " dropout_1 (Dropout)         (None, 4096)              0         \n",
      "                                                                 \n",
      " dense_2 (Dense)             (None, 3)                 12291     \n",
      "                                                                 \n",
      " softmax (Softmax)           (None, 3)                 0         \n",
      "                                                                 \n",
      "=================================================================\n",
      "Total params: 134272835 (512.21 MB)\n",
      "Trainable params: 134272835 (512.21 MB)\n",
      "Non-trainable params: 0 (0.00 Byte)\n",
      "_________________________________________________________________\n"
     ]
    }
   ],
   "source": [
    "model.summary()"
   ]
  },
  {
   "cell_type": "code",
   "execution_count": 8,
   "id": "f2f093fd",
   "metadata": {
    "execution": {
     "iopub.execute_input": "2023-12-15T20:36:36.999535Z",
     "iopub.status.busy": "2023-12-15T20:36:36.999153Z",
     "iopub.status.idle": "2023-12-15T20:38:40.530148Z",
     "shell.execute_reply": "2023-12-15T20:38:40.529043Z"
    },
    "papermill": {
     "duration": 123.543668,
     "end_time": "2023-12-15T20:38:40.532673",
     "exception": false,
     "start_time": "2023-12-15T20:36:36.989005",
     "status": "completed"
    },
    "tags": []
   },
   "outputs": [
    {
     "name": "stdout",
     "output_type": "stream",
     "text": [
      "Fit model on training data\n",
      "Epoch 1/2\n",
      "16/16 [==============================] - 62s 4s/step - loss: nan - categorical_accuracy: 0.1250\n",
      "Epoch 2/2\n",
      "16/16 [==============================] - 58s 4s/step - loss: nan - categorical_accuracy: 0.1250\n"
     ]
    }
   ],
   "source": [
    "#train model \n",
    "\n",
    "from keras.optimizers import SGD\n",
    "\n",
    "# Define the optimizer separately so we have better hyperparams control \n",
    "sgd = SGD(lr=0.01, momentum=0.9, weight_decay = 0.0005) #TODO: change learning rate and CHECK WEIGHT DECAU\n",
    "\n",
    "#in 11 layer, paper initializes weights randomly\n",
    "#this is redundant as this is the default initialisation method, keeping just for reference in later models w/ > layers \n",
    "weights = [np.random.rand(*w.shape) for w in model.get_weights()]\n",
    "model.set_weights(weights)\n",
    "\n",
    "# Compile the model\n",
    "#model.compile(loss='categorical_crossentropy', optimizer=sgd)\n",
    "\n",
    "model.compile(\n",
    "    optimizer=sgd,  # Optimizer\n",
    "    # Loss function to minimize\n",
    "    loss='categorical_crossentropy', #multinomial logistic regression\n",
    "    # List of metrics to monitor\n",
    "    metrics=['categorical_accuracy']\n",
    ")\n",
    "\n",
    "\n",
    "print(\"Fit model on training data\")\n",
    "history = model.fit(\n",
    "    X_train, #X_train = images\n",
    "    y_train, #pd.get_dummies(labels)\n",
    "    batch_size=2, \n",
    "    #validation_split=0.15, #we might not need to do this? as this is just a test \n",
    "    epochs=2, #should be 74 \n",
    ")"
   ]
  },
  {
   "cell_type": "code",
   "execution_count": 9,
   "id": "52b2a12a",
   "metadata": {
    "execution": {
     "iopub.execute_input": "2023-12-15T20:38:40.557486Z",
     "iopub.status.busy": "2023-12-15T20:38:40.557060Z",
     "iopub.status.idle": "2023-12-15T20:38:40.802983Z",
     "shell.execute_reply": "2023-12-15T20:38:40.801901Z"
    },
    "papermill": {
     "duration": 0.260918,
     "end_time": "2023-12-15T20:38:40.805319",
     "exception": false,
     "start_time": "2023-12-15T20:38:40.544401",
     "status": "completed"
    },
    "tags": []
   },
   "outputs": [
    {
     "data": {
      "text/plain": [
       "[<matplotlib.lines.Line2D at 0x7a0c0ab8f610>]"
      ]
     },
     "execution_count": 9,
     "metadata": {},
     "output_type": "execute_result"
    },
    {
     "data": {
      "image/png": "[encoded data removed]",
      "text/plain": [
       "<Figure size 640x480 with 1 Axes>"
      ]
     },
     "metadata": {},
     "output_type": "display_data"
    }
   ],
   "source": [
    "#The returned history object holds a record of the loss values and metric values during training:\n",
    "'''history_df = pd.DataFrame(history.history)\n",
    "\n",
    "history_df.loc[:, \"loss\"].plot()\n",
    "'''\n",
    "plt.plot(history.history['loss'])"
   ]
  },
  {
   "cell_type": "code",
   "execution_count": 10,
   "id": "73726137",
   "metadata": {
    "execution": {
     "iopub.execute_input": "2023-12-15T20:38:40.829325Z",
     "iopub.status.busy": "2023-12-15T20:38:40.828575Z",
     "iopub.status.idle": "2023-12-15T20:38:40.833266Z",
     "shell.execute_reply": "2023-12-15T20:38:40.832315Z"
    },
    "papermill": {
     "duration": 0.019093,
     "end_time": "2023-12-15T20:38:40.835355",
     "exception": false,
     "start_time": "2023-12-15T20:38:40.816262",
     "status": "completed"
    },
    "tags": []
   },
   "outputs": [],
   "source": [
    "#DONE: subtract the mean RGB value, computed on the training set, from each pixel\n",
    "#TODO: check if need to zero gradient after update or done under hood in Tensor Flow \n",
    "\n",
    "\n",
    "#meeting 7th dec \n",
    "#add regularization in dense layers\n",
    "#weight decay\n",
    "#weights are initially randomized automaticamente da keras so extra one liner is non necessary for now \n",
    "\n",
    "\n",
    "#LR SHOULD DECAY PER PAPER 3 times up to 10 alla -5 \n",
    "\n",
    "#TODO \n",
    "#regularization and weight decay austin\n",
    "#checking krizhevsky austin\n",
    "#image scaling Irene\n",
    "#saving model in a file and transfer learning into a new file + subsetting layers Giulio \n",
    "#subtract the mean RGB value, computed on the training set, from each pixel  Irene"
   ]
  }
 ],
 "metadata": {
  "kaggle": {
   "accelerator": "none",
   "dataSources": [
    {
     "databundleVersionId": 4225553,
     "sourceId": 6799,
     "sourceType": "competition"
    }
   ],
   "dockerImageVersionId": 30626,
   "isGpuEnabled": false,
   "isInternetEnabled": false,
   "language": "python",
   "sourceType": "notebook"
  },
  "kernelspec": {
   "display_name": "Python 3",
   "language": "python",
   "name": "python3"
  },
  "language_info": {
   "codemirror_mode": {
    "name": "ipython",
    "version": 3
   },
   "file_extension": ".py",
   "mimetype": "text/x-python",
   "name": "python",
   "nbconvert_exporter": "python",
   "pygments_lexer": "ipython3",
   "version": "3.10.12"
  },
  "papermill": {
   "default_parameters": {},
   "duration": 182.446391,
   "end_time": "2023-12-15T20:38:42.871780",
   "environment_variables": {},
   "exception": null,
   "input_path": "__notebook__.ipynb",
   "output_path": "__notebook__.ipynb",
   "parameters": {},
   "start_time": "2023-12-15T20:35:40.425389",
   "version": "2.4.0"
  }
 },
 "nbformat": 4,
 "nbformat_minor": 5
}
